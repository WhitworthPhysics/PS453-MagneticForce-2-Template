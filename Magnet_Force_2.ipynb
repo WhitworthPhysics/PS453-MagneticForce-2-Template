{
  "nbformat": 4,
  "nbformat_minor": 0,
  "metadata": {
    "colab": {
      "name": "Magnet Force 2.ipynb",
      "provenance": [],
      "collapsed_sections": [],
      "authorship_tag": "ABX9TyP6JsCRbp6JEUpZ8q1mjZbG"
    },
    "kernelspec": {
      "name": "python3",
      "display_name": "Python 3"
    }
  },
  "cells": [
    {
      "cell_type": "markdown",
      "metadata": {
        "id": "hXXgYfJ4A_KB"
      },
      "source": [
        "# Install and import libraries"
      ]
    },
    {
      "cell_type": "code",
      "metadata": {
        "id": "JhOi40FxA63p"
      },
      "source": [
        "!pip install whit-phys-util"
      ],
      "execution_count": null,
      "outputs": []
    },
    {
      "cell_type": "code",
      "metadata": {
        "id": "gu4pXIWjBFv4"
      },
      "source": [
        "import numpy as np\r\n",
        "import pandas as pd\r\n",
        "import matplotlib.pyplot as plt\r\n",
        "import whit_phys_util as buc\r\n",
        "import scipy.constants as const"
      ],
      "execution_count": null,
      "outputs": []
    },
    {
      "cell_type": "markdown",
      "metadata": {
        "id": "6TqO6bciBLRU"
      },
      "source": [
        "# Connect to GitHub"
      ]
    },
    {
      "cell_type": "code",
      "metadata": {
        "id": "rtteQW6PBNxP"
      },
      "source": [
        "repo = buc.local_repository(\"replace me\")"
      ],
      "execution_count": null,
      "outputs": []
    },
    {
      "cell_type": "markdown",
      "metadata": {
        "id": "mGrhlvz9yhzL"
      },
      "source": [
        "# Equipment and materials\r\n",
        "| Description | Manufacturer | Model | ID or SN |\r\n",
        "| ----------- | ------------ | ----- | -------- |\r\n",
        "| fill in | fill in | fill in | fill in |\r\n",
        "| fill in | fill in | fill in | fill in |\r\n",
        "\r\n",
        "\r\n",
        "_You should replace the **fill in** entries with appropriate info._"
      ]
    },
    {
      "cell_type": "markdown",
      "metadata": {
        "id": "ltsWR7Gp5rEF"
      },
      "source": [
        "# Theoretical Foundations"
      ]
    },
    {
      "cell_type": "markdown",
      "metadata": {
        "id": "W_go8RCF5wLl"
      },
      "source": [
        "## Draw a qualitatively correct free body diagram for case B"
      ]
    },
    {
      "cell_type": "markdown",
      "metadata": {
        "id": "0f9U8h3R53Ny"
      },
      "source": [
        ""
      ]
    },
    {
      "cell_type": "markdown",
      "metadata": {
        "id": "JaorUSwH54uW"
      },
      "source": [
        "## Write down Newton's second law for case B"
      ]
    },
    {
      "cell_type": "markdown",
      "metadata": {
        "id": "M-oFvI5c5-JA"
      },
      "source": [
        ""
      ]
    },
    {
      "cell_type": "markdown",
      "metadata": {
        "id": "bkCig1Zw5-ks"
      },
      "source": [
        "## Draw a qualitatively correct free body diagram for case C"
      ]
    },
    {
      "cell_type": "markdown",
      "metadata": {
        "id": "2oom0WbF6EQn"
      },
      "source": [
        ""
      ]
    },
    {
      "cell_type": "markdown",
      "metadata": {
        "id": "vsMZILNM6Dma"
      },
      "source": [
        "## Write down Newton's second law for case C"
      ]
    },
    {
      "cell_type": "markdown",
      "metadata": {
        "id": "9wn80ML26JJR"
      },
      "source": [
        ""
      ]
    },
    {
      "cell_type": "markdown",
      "metadata": {
        "id": "EaKmXenX6Isp"
      },
      "source": [
        "## Under what conditions would the magnetic force in case B equal the magnetic force in case C?"
      ]
    },
    {
      "cell_type": "markdown",
      "metadata": {
        "id": "wy3OghLr6Su_"
      },
      "source": [
        ""
      ]
    },
    {
      "cell_type": "markdown",
      "metadata": {
        "id": "KeQMJsWZ52ls"
      },
      "source": [
        "## Write an expression for the magnetic field gradient in terms of $m$, $M$, $g$, $k$, and $\\Delta z$"
      ]
    },
    {
      "cell_type": "markdown",
      "metadata": {
        "id": "MTr9FU7Y6eYO"
      },
      "source": [
        ""
      ]
    },
    {
      "cell_type": "markdown",
      "metadata": {
        "id": "0wZTUBiF6hG8"
      },
      "source": [
        "## Explain **where** your expression for the magnetic field gradient is applicable"
      ]
    },
    {
      "cell_type": "markdown",
      "metadata": {
        "id": "ptlX-cV06ovc"
      },
      "source": [
        ""
      ]
    },
    {
      "cell_type": "markdown",
      "metadata": {
        "id": "NqYSCSfE6p1O"
      },
      "source": [
        "# Experiment measurements"
      ]
    },
    {
      "cell_type": "code",
      "metadata": {
        "id": "agf1Q1Ff5vXm"
      },
      "source": [
        ""
      ],
      "execution_count": null,
      "outputs": []
    }
  ]
}